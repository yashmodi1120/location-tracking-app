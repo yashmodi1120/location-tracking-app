{
  "cells": [
    {
      "cell_type": "code",
      "source": [
        "from pyspark.sql import SparkSession\n",
        "spark = SparkSession.builder.remote(\"sc://52.234.233.219:15002\").getOrCreate()"
      ],
      "outputs": [],
      "execution_count": 1,
      "metadata": {
        "jupyter": {
          "source_hidden": false,
          "outputs_hidden": false
        },
        "nteract": {
          "transient": {
            "deleting": false
          }
        },
        "gather": {
          "logged": 1710846678979
        }
      }
    },
    {
      "cell_type": "code",
      "source": [
        "spark.conf.set(\"fs.azure.account.key.epsilonstagingstorage.dfs.core.windows.net\",\"7pAirMYVhJrE/MAoWGkbhPryvdbiqvzDeOtv7HSvGs1t3vXJkGGQ8/OsTYkNECW631MOpJKb5zACtUDznuZH3A==\")"
      ],
      "outputs": [],
      "execution_count": 2,
      "metadata": {
        "jupyter": {
          "source_hidden": false,
          "outputs_hidden": false
        },
        "nteract": {
          "transient": {
            "deleting": false
          }
        },
        "gather": {
          "logged": 1710846682802
        }
      }
    },
    {
      "cell_type": "code",
      "source": [
        "csv_file_path=\"abfs://test@epsilonstagingstorage.dfs.core.windows.net/Sample-Spreadsheet-10-rows.csv\""
      ],
      "outputs": [],
      "execution_count": 3,
      "metadata": {
        "jupyter": {
          "source_hidden": false,
          "outputs_hidden": false
        },
        "nteract": {
          "transient": {
            "deleting": false
          }
        },
        "gather": {
          "logged": 1710846685365
        }
      }
    },
    {
      "cell_type": "code",
      "source": [
        "df = spark.read.csv(csv_file_path, header=True, inferSchema=True)"
      ],
      "outputs": [],
      "execution_count": 4,
      "metadata": {
        "jupyter": {
          "source_hidden": false,
          "outputs_hidden": false
        },
        "nteract": {
          "transient": {
            "deleting": false
          }
        },
        "gather": {
          "logged": 1710846688236
        }
      }
    },
    {
      "cell_type": "code",
      "source": [
        "df.show()"
      ],
      "outputs": [
        {
          "output_type": "stream",
          "name": "stdout",
          "text": "+---+------------------------------------------------+------------------+---+-------+------+-----+-------+----------------------+----+\n|  1|Eldon Base for stackable storage shelf, platinum|Muhammed MacIntyre|  3|-213.25| 38.94|   35|Nunavut|Storage & Organization| 0.8|\n+---+------------------------------------------------+------------------+---+-------+------+-----+-------+----------------------+----+\n|  2|                            \"1.7 Cubic Foot C...|      Barry French|293| 457.81|208.16|68.02|Nunavut|            Appliances|0.58|\n|  3|                            Cardinal Slant-D�...|      Barry French|293|  46.71|  8.69| 2.99|Nunavut|  Binders and Binde...|0.39|\n|  4|                                            R380|     Clay Rozendal|483|1198.97|195.99| 3.99|Nunavut|  Telephones and Co...|0.58|\n|  5|                            Holmes HEPA Air P...|    Carlos Soltero|515|  30.94| 21.78| 5.94|Nunavut|            Appliances| 0.5|\n|  6|                            G.E. Longer-Life ...|    Carlos Soltero|515|   4.43|  6.64| 4.95|Nunavut|    Office Furnishings|0.37|\n|  7|                            Angle-D Binders w...|      Carl Jackson|613| -54.04|   7.3| 7.72|Nunavut|  Binders and Binde...|0.38|\n|  8|                            SAFCO Mobile Desk...|      Carl Jackson|613|  127.7| 42.76| 6.22|Nunavut|  Storage & Organiz...|null|\n|  9|                            SAFCO Commercial ...|    Monica Federle|643|-695.26|138.14| 35.0|Nunavut|  Storage & Organiz...|null|\n| 10|                                       Xerox 198|   Dorothy Badders|678|-226.36|  4.98| 8.33|Nunavut|                 Paper|0.38|\n+---+------------------------------------------------+------------------+---+-------+------+-----+-------+----------------------+----+\n\n"
        }
      ],
      "execution_count": 5,
      "metadata": {
        "jupyter": {
          "source_hidden": false,
          "outputs_hidden": false
        },
        "nteract": {
          "transient": {
            "deleting": false
          }
        },
        "gather": {
          "logged": 1710846691379
        }
      }
    }
  ],
  "metadata": {
    "kernelspec": {
      "display_name": "Python 3.10 - SDK v2",
      "language": "python",
      "name": "python310-sdkv2"
    },
    "language_info": {
      "name": "python",
      "version": "3.8.5",
      "mimetype": "text/x-python",
      "codemirror_mode": {
        "name": "ipython",
        "version": 3
      },
      "pygments_lexer": "ipython3",
      "nbconvert_exporter": "python",
      "file_extension": ".py"
    },
    "microsoft": {
      "ms_spell_check": {
        "ms_spell_check_language": "en"
      },
      "host": {
        "AzureML": {
          "notebookHasBeenCompleted": true
        }
      }
    },
    "nteract": {
      "version": "nteract-front-end@1.0.0"
    }
  },
  "nbformat": 4,
  "nbformat_minor": 2
}