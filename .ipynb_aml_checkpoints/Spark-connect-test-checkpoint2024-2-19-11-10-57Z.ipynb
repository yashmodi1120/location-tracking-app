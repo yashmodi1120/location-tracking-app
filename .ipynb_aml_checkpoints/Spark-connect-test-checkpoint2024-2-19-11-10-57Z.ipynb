{
  "cells": [
    {
      "cell_type": "code",
      "source": [
        "from pyspark.sql import SparkSession\n",
        "spark = SparkSession.builder.remote(\"sc://52.234.233.219:15002\").getOrCreate()"
      ],
      "outputs": [],
      "execution_count": null,
      "metadata": {
        "jupyter": {
          "source_hidden": false,
          "outputs_hidden": false
        },
        "nteract": {
          "transient": {
            "deleting": false
          }
        },
        "gather": {
          "logged": 1710846551204
        }
      }
    },
    {
      "cell_type": "code",
      "source": [
        "spark.conf.set(\"fs.azure.account.key.epsilonstagingstorage.dfs.core.windows.net\",\"7pAirMYVhJrE/MAoWGkbhPryvdbiqvzDeOtv7HSvGs1t3vXJkGGQ8/OsTYkNECW631MOpJKb5zACtUDznuZH3A==\")"
      ],
      "outputs": [],
      "execution_count": null,
      "metadata": {
        "jupyter": {
          "source_hidden": false,
          "outputs_hidden": false
        },
        "nteract": {
          "transient": {
            "deleting": false
          }
        },
        "gather": {
          "logged": 1710846551214
        }
      }
    },
    {
      "cell_type": "code",
      "source": [
        "csv_file_path=\"abfs://test@epsilonstagingstorage.dfs.core.windows.net/Sample-Spreadsheet-10-rows.csv\""
      ],
      "outputs": [],
      "execution_count": null,
      "metadata": {
        "jupyter": {
          "source_hidden": false,
          "outputs_hidden": false
        },
        "nteract": {
          "transient": {
            "deleting": false
          }
        },
        "gather": {
          "logged": 1710846551222
        }
      }
    },
    {
      "cell_type": "code",
      "source": [
        "df = spark.read.csv(csv_file_path, header=True, inferSchema=True)"
      ],
      "outputs": [],
      "execution_count": null,
      "metadata": {
        "jupyter": {
          "source_hidden": false,
          "outputs_hidden": false
        },
        "nteract": {
          "transient": {
            "deleting": false
          }
        },
        "gather": {
          "logged": 1710846551229
        }
      }
    },
    {
      "cell_type": "code",
      "source": [
        "df.show()"
      ],
      "outputs": [],
      "execution_count": null,
      "metadata": {
        "jupyter": {
          "source_hidden": false,
          "outputs_hidden": false
        },
        "nteract": {
          "transient": {
            "deleting": false
          }
        },
        "gather": {
          "logged": 1710846551235
        }
      }
    }
  ],
  "metadata": {
    "kernelspec": {
      "display_name": "Python 3.10 - SDK v2",
      "language": "python",
      "name": "python310-sdkv2"
    },
    "language_info": {
      "name": "python",
      "version": "3.8.5",
      "mimetype": "text/x-python",
      "codemirror_mode": {
        "name": "ipython",
        "version": 3
      },
      "pygments_lexer": "ipython3",
      "nbconvert_exporter": "python",
      "file_extension": ".py"
    },
    "microsoft": {
      "ms_spell_check": {
        "ms_spell_check_language": "en"
      },
      "host": {
        "AzureML": {
          "notebookHasBeenCompleted": true
        }
      }
    },
    "nteract": {
      "version": "nteract-front-end@1.0.0"
    }
  },
  "nbformat": 4,
  "nbformat_minor": 2
}